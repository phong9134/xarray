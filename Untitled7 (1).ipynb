{
 "cells": [
  {
   "cell_type": "markdown",
   "metadata": {},
   "source": [
    "Can you expand on $(x+y)^{2}$? I guess you would find that is quite easy to do. You can easily find that $(x+y)^{2} = x^{2}+ 2xy +y^{2}$. How about the expansion of $(x+y)^{10}$. It is no longer easy. However, if we use \\textbf{Binomial Theorem}, this expansion becomes an easy problem. Binomial Theorem is a very intriguing topic in mathematics and it has wide range of applications.\n",
    "\n",
    "Theorem\n",
    "\n",
    "Let $x$, $y$ be real numbers (or complex, or polynomial). For any positive integer $n$, we have:\n",
    "    \\begin{align*}\n",
    "\t(x+y)^{n} &=  \\binom{n}{0}x^{n} + \\binom{n}{1}x^{n-1}y + \\dots + \\binom{n}{n-1}xy^{n-1} + \\binom{n}{n}y^{n}\\\\\n",
    "    &= \\sum_{k=0}^{n} x^{n-k}y^{k} \n",
    "    \\end{align*}\n",
    "\n",
    "where,\n",
    "\t\\begin{align*}\n",
    "\t\t\\binom{n}{k} = \\frac{n!}{k!(n-k)!}\n",
    "\t\\end{align*}\n",
    "\n",
    "\n",
    "\\underline{\\textit{Proof}}:\n",
    "\n",
    "We will use prove by induction. The base case $n=1$ is obvious. Now suppose that the theorem is true for the case $n-1$, that is assume that:\n",
    "\n",
    "\\begin{align}\n",
    "\t\t(x+y)^{n-1} = \\binom{n-1}{0}x^{n-1} + \\binom{n-1}{1}x^{n-2}y + \\dots + \\binom{n-1}{n-2}xy^{n-2} + \\binom{n-1}{n-1}y^{n-1}\n",
    "\\end{align}\n",
    "\n",
    "we will now show that \n",
    "\n",
    "\\begin{align*}\n",
    "\t  (x+y)^{n} &=  \\binom{n}{0}x^{n} + \\binom{n}{1}x^{n-1}y + \\dots + \\binom{n}{n-1}xy^{n-1} + \\binom{n}{n}y^{n}\n",
    "\t  \\label{eq1}\n",
    "\\end{align*}\n"
   ]
  },
  {
   "cell_type": "markdown",
   "metadata": {},
   "source": [
    "\\begin{align*}\n",
    "\t\t(x+y)^{n-1} = \\binom{n-1}{0}x^{n-1} + \\binom{n-1}{1}x^{n-2}y + \\dots + \\binom{n-1}{n-2}xy^{n-2} + \\binom{n-1}{n-1}y^{n-1}\n",
    "\t\\end{align*}\n",
    "we will now show that \n",
    "\n",
    "\\begin{align}\n",
    "\t  (x+y)^{n} &=  \\binom{n}{0}x^{n} + \\binom{n}{1}x^{n-1}y + \\dots + \\binom{n}{n-1}xy^{n-1} + \\binom{n}{n}y^{n}\n",
    "\t  \\label{eq1}\n",
    "\\end{align}\n",
    "\n",
    "\n",
    "\n",
    "We consider the left hand side of equation (\\ref{eq1})\n",
    "\n",
    "\\begin{align*}\n",
    "\t\t  &(x+y)^{n} =  (x+y) (x+y)^{n-1} \\\\\n",
    "\t\t   &= (x+y) \\bigg(  \\binom{n-1}{0}x^{n-1} + \\binom{n-1}{1}x^{n-2}y + \\dots \\\\\n",
    "           &+ \\binom{n-1}{n-2}xy^{n-2} + \\binom{n-1}{n-1}y^{n-1}\\bigg)  \\\\\n",
    "\t\t   &= x^{n} + \\bigg(  \\binom{n-1}{0} + \\binom{n-1}{1}\\bigg) x^{n-1}y + \\bigg(  \\binom{n-1}{1} + \\binom{n-1}{2}\\bigg) x^{n-2}y^{1}\n",
    "\t\t  + \\dots \\\\\n",
    "\t\t &+\\bigg(  \\binom{n-1}{n-2} + \\binom{n-1}{n-1}\\bigg) xy^{n-1} + y^{n}\n",
    "\\end{align*}\n",
    "\n",
    "\n",
    "\n",
    "\n",
    "We can now apply \\textbf{Pascal's identity}:\n",
    "\n",
    "\\begin{align*}\n",
    "\t\t\\binom{n-1}{k-1} + \\binom{n-1}{k} = \\binom{n}{k}\n",
    "\\end{align*}\n",
    "\n",
    "the equation above can be simplified to:\n",
    "\n",
    "\\begin{align*}\n",
    "\t\t  (x+y)^{n} &= x^{n} + \\binom{n}{1}x^{n-1}y +  \\binom{n}{1}x^{n-1}y + \\dots + \\binom{n}{n-1}xy^{n-1} +y^{n}\\\\\n",
    "\t\t  & = \\binom{n}{0}x^{n} + \\binom{n}{1}x^{n-1}y + \\dots + \\binom{n}{n-1}xy^{n-1} + \\binom{n}{n}y^{n}\n",
    "\\end{align*}\n",
    "\t\n",
    "as we desired. \\\\\n"
   ]
  },
  {
   "cell_type": "markdown",
   "metadata": {},
   "source": [
    "\\begin{align*}\n",
    "\t\t\n",
    " (x+y)^{n-1} = \\binom{n-1}{0}x^{n-1} + \\binom{n-1}{1}x^{n-2}y + \\dots + \\binom{n-1}{n-2}xy^{n-2} + \\binom{n-1}{n-1}y^{n-1}\n",
    "        \n",
    "\\end{align*}"
   ]
  },
  {
   "cell_type": "markdown",
   "metadata": {},
   "source": [
    "Power rule in Calculus\\\\\n",
    "\n",
    "In calculus, we always use the power rule that $\\frac{d}{dx} x^{n} = n x^{n-1}$. We can prove this rule using Binomial Theorem.\n",
    "\n",
    "\\underline{\\textit{proof}}:\n",
    "\n",
    "Recall that derivative for any continuous function $f (x)$ is defined as:\n",
    "\n",
    "\\begin{align*}\n",
    "\t\t\\frac{d}{dx} f(x) = \\lim_{h \\rightarrow 0} \\frac{f(x+h) - f(x)}{h}.\n",
    "\\end{align*}\n",
    "\n",
    "\n",
    "Let $n$ be a positive integer and let $f(x) = x^{n}$, the derivative of $f(x)$ is:\n",
    "\n",
    "\\begin{align*}\n",
    "\t\t&\\frac{d}{dx} x^{n} = \\lim_{h \\rightarrow 0} \\frac{(x+h)^{n} - x^{n}}{h}\\\\\n",
    "\t\t&=  \\lim_{h \\rightarrow 0} \\frac{\\bigg(\t\\binom{n}{0} x^{n}  + \\binom{n}{1}x^{n-1}h + \\dots + \\binom{n}{n} h^{n} \\bigg) - x^{n}}{h}\\\\\n",
    "\t\t& =  \\lim_{h \\rightarrow 0} \\frac{ \\binom{n}{1}x^{n-1}h  + \\binom{n}{2}x^{n-2}h^{2}+ \\dots + \\binom{n}{n} h^{n}}{h}\\\\\n",
    "\t\t& = \\lim_{h \\rightarrow 0} \\bigg( \\binom{n}{1}x^{n-1}  + \\binom{n}{2}x^{n-2}h+ \\dots + \\binom{n}{n} h^{n-1} \\bigg)\\\\\n",
    "\t\t &= n \\lim_{h \\rightarrow 0}  \\bigg( \\binom{n-1}{0}x^{n-1}  + \\binom{n-1}{1}x^{n-2}h+ \\dots + \\binom{n-1}{n-1}h^{n-1} \\bigg)\\\\\n",
    "\t\t &= n  \\lim_{h \\rightarrow 0} (x+h)^{n-1}\\\\\n",
    "\t\t &= n x^{n-1}.\n",
    "\\end{align*}\n"
   ]
  },
  {
   "cell_type": "markdown",
   "metadata": {},
   "source": [
    "Let $X$ be the number of Head a sequence of $n$ independent coin tossing. $X$ is usually model by binomial distribution in probability model. Let \n",
    "\t$ p \\in [0,1]$ be the probability that a head show up in a toss, and let $k = 0,1,\\dots,n$. The probability that there is $k$ head in the sequence of $n$ toss is:\n",
    "\\begin{align*}\n",
    "    P(X = k) = \\binom{n}{k} p^{k}(1-p)^{n-k}\n",
    "\\end{align*}\n",
    "\tWe know that sum of all the probability must equal to 1. In order to show this, we can use Binomial Theorem. We have:\n",
    "\t\n",
    "\\begin{align}\n",
    "\t\t\t\\sum_{k=0}^{n} P(X = k) = \\sum_{k=0}^{n}  \\binom{n}{k} p^{k}(1-p)^{n-k}\\\\\n",
    "\t\t\t = (p + 1 - p)^{n}\\\\\n",
    "\t\t\t = 1.\n",
    "\\end{align}"
   ]
  },
  {
   "cell_type": "code",
   "execution_count": null,
   "metadata": {},
   "outputs": [],
   "source": []
  }
 ],
 "metadata": {
  "kernelspec": {
   "display_name": "Python 3",
   "language": "python",
   "name": "python3"
  },
  "language_info": {
   "codemirror_mode": {
    "name": "ipython",
    "version": 3
   },
   "file_extension": ".py",
   "mimetype": "text/x-python",
   "name": "python",
   "nbconvert_exporter": "python",
   "pygments_lexer": "ipython3",
   "version": "3.7.3"
  }
 },
 "nbformat": 4,
 "nbformat_minor": 2
}
